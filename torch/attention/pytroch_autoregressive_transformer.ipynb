{
 "cells": [
  {
   "cell_type": "markdown",
   "id": "f7e70969",
   "metadata": {},
   "source": [
    "# Autoregressive Transformer in Pytorch\n",
    "\n",
    "similar to GPT architecture\n",
    "https://s3-us-west-2.amazonaws.com/openai-assets/research-covers/language-unsupervised/language_understanding_paper.pdf\n",
    "\n",
    "some differences: RELU instead of GELU\n",
    "\n",
    "Trained on WMT since this was the dataset used by the original Attention is all you need paper, and the decoder module used is shared with that architecture"
   ]
  },
  {
   "cell_type": "markdown",
   "id": "2aa83aea",
   "metadata": {},
   "source": [
    "Data was downloaded manually from https://nlp.stanford.edu/projects/nmt/ since torchnlp seems to be broken"
   ]
  },
  {
   "cell_type": "code",
   "execution_count": 1,
   "id": "56a4480b",
   "metadata": {},
   "outputs": [],
   "source": [
    "import os\n",
    "os.environ['CUDA_LAUNCH_BLOCKING'] = \"1\""
   ]
  },
  {
   "cell_type": "code",
   "execution_count": 2,
   "id": "31b763cf",
   "metadata": {},
   "outputs": [],
   "source": [
    "from collections import OrderedDict\n",
    "from functools import partial\n",
    "import importlib\n",
    "import matplotlib.pyplot as plt\n",
    "import math\n",
    "import numpy as np\n",
    "import pickle\n",
    "\n",
    "import torch\n",
    "import torch.nn as nn\n",
    "import torch.nn.functional as F"
   ]
  },
  {
   "cell_type": "code",
   "execution_count": 3,
   "id": "84309abb",
   "metadata": {},
   "outputs": [
    {
     "data": {
      "text/plain": [
       "<module 'src.torch_models' from '/mnt/ml_implementations/torch/attention/src/torch_models.py'>"
      ]
     },
     "execution_count": 3,
     "metadata": {},
     "output_type": "execute_result"
    }
   ],
   "source": [
    "from src import data\n",
    "from src import torch_models as models\n",
    "from src import train_utils\n",
    "import src.utils as utils\n",
    "\n",
    "# reload during active development\n",
    "importlib.reload(data)\n",
    "importlib.reload(models)"
   ]
  },
  {
   "cell_type": "code",
   "execution_count": 4,
   "id": "6cc5c5b6",
   "metadata": {},
   "outputs": [],
   "source": [
    "import logging\n",
    "logging.basicConfig()\n",
    "logger = logging.getLogger()\n",
    "logger.setLevel(logging.INFO)"
   ]
  },
  {
   "cell_type": "markdown",
   "id": "463725b6",
   "metadata": {},
   "source": [
    "## Train tokenizer using BBPE\n",
    "\n",
    "\"Sentences were encoded using byte-pair encoding [3], which has a shared sourcetarget vocabulary of about 37000 tokens\""
   ]
  },
  {
   "cell_type": "markdown",
   "id": "c0fce0b8",
   "metadata": {},
   "source": [
    "Use tokenizers from huggingface"
   ]
  },
  {
   "cell_type": "code",
   "execution_count": 5,
   "id": "84cdaea0",
   "metadata": {},
   "outputs": [],
   "source": [
    "train_path_en = 'data/train.en'\n",
    "train_path_de = 'data/train.de'\n",
    "tokenizer_path = \"data/tokenizer-bbpe-joint.json\""
   ]
  },
  {
   "cell_type": "code",
   "execution_count": 6,
   "id": "5668bd7c",
   "metadata": {},
   "outputs": [
    {
     "name": "stderr",
     "output_type": "stream",
     "text": [
      "INFO:root:loading BBPE tokenizer at data/tokenizer-bbpe-joint.json\n"
     ]
    }
   ],
   "source": [
    "bbpe = data.get_bbpe_tokenizer(tokenizer_path, data_file_list=[train_path_en, train_path_de])"
   ]
  },
  {
   "cell_type": "code",
   "execution_count": 7,
   "id": "aca11d92",
   "metadata": {},
   "outputs": [
    {
     "name": "stdout",
     "output_type": "stream",
     "text": [
      "[3120, 336, 1818, 267, 21573, 277, 3099, 1019, 1203, 4027, 286, 10936, 316, 22466, 1014, 512, 6690, 9969, 85, 2143, 536, 24299]\n"
     ]
    },
    {
     "data": {
      "text/plain": [
       "'this is a test sentence for byte pair encoding outofvocabword'"
      ]
     },
     "execution_count": 7,
     "metadata": {},
     "output_type": "execute_result"
    }
   ],
   "source": [
    "encoding = bbpe.encode(\n",
    "    'this is a test sentence for byte pair encoding outofvocabword')\n",
    "print(encoding.ids)\n",
    "bbpe.decode(encoding.ids)"
   ]
  },
  {
   "cell_type": "markdown",
   "id": "d6d55e11",
   "metadata": {},
   "source": [
    "## Build Model"
   ]
  },
  {
   "cell_type": "markdown",
   "id": "922d43e8",
   "metadata": {},
   "source": [
    "### Small model for testing"
   ]
  },
  {
   "cell_type": "code",
   "execution_count": 8,
   "id": "90098567",
   "metadata": {},
   "outputs": [],
   "source": [
    "importlib.reload(models)\n",
    "importlib.reload(train_utils)\n",
    "max_seqlen = 64\n",
    "model_config = models.ModelConfig(\n",
    "    dim=512,\n",
    "    N=2,\n",
    "    h=8,\n",
    "    V=bbpe.get_vocab_size(),\n",
    "    max_context=max_seqlen,\n",
    "    drop_rate=0.01,\n",
    "    position_encoding_class=models.LearnablePositionalEncoding,\n",
    ")\n",
    "\n",
    "model_config_large = models.ModelConfig(\n",
    "    dim=512,\n",
    "    N=8,\n",
    "    h=8,\n",
    "    V=bbpe.get_vocab_size(),\n",
    "    max_context=max_seqlen,\n",
    "    drop_rate=0.01,\n",
    "    position_encoding_class=models.LearnablePositionalEncoding,\n",
    ")"
   ]
  },
  {
   "cell_type": "code",
   "execution_count": 9,
   "id": "2815a7ae",
   "metadata": {},
   "outputs": [],
   "source": [
    "# for testing\n",
    "seqlen = 22\n",
    "tokens = [1] * seqlen\n",
    "tokens = torch.tensor(tokens).unsqueeze(0)"
   ]
  },
  {
   "cell_type": "code",
   "execution_count": 10,
   "id": "119a2d5d",
   "metadata": {},
   "outputs": [
    {
     "data": {
      "text/plain": [
       "tensor([[[409.7980, 409.7980, 409.7980,  ..., 409.7979, 409.7979, 409.7979],\n",
       "         [539.5802, 539.5802, 539.5802,  ..., 539.5815, 539.5815, 539.5815],\n",
       "         [454.0135, 454.0135, 454.0135,  ..., 454.0151, 454.0151, 454.0151],\n",
       "         ...,\n",
       "         [599.6292, 599.6292, 599.6292,  ..., 599.6282, 599.6282, 599.6282],\n",
       "         [478.8693, 478.8693, 478.8693,  ..., 478.8710, 478.8710, 478.8710],\n",
       "         [466.7212, 466.7212, 466.7212,  ..., 466.7206, 466.7206, 466.7206]]],\n",
       "       grad_fn=<AddBackward0>)"
      ]
     },
     "execution_count": 10,
     "metadata": {},
     "output_type": "execute_result"
    }
   ],
   "source": [
    "model_autoreg = models.Autoregressive.from_config(model_config)\n",
    "_ = model_autoreg.apply(train_utils.init_ones)\n",
    "model_autoreg(tokens)"
   ]
  },
  {
   "cell_type": "markdown",
   "id": "49816ae8",
   "metadata": {},
   "source": [
    "###  min gpt as control\n",
    "\n",
    "https://github.com/karpathy/minGPT\n",
    "\n",
    "Compare output with minGPT to make sure everything is working as expected"
   ]
  },
  {
   "cell_type": "code",
   "execution_count": 11,
   "id": "7e327f24",
   "metadata": {},
   "outputs": [],
   "source": [
    "from src.minGPT.mingpt import model as min_gpt\n",
    "from src.minGPT.mingpt.trainer import Trainer, TrainerConfig"
   ]
  },
  {
   "cell_type": "code",
   "execution_count": 12,
   "id": "fa32b531",
   "metadata": {},
   "outputs": [
    {
     "name": "stderr",
     "output_type": "stream",
     "text": [
      "INFO:src.minGPT.mingpt.model:number of parameters: 3.706163e+07\n"
     ]
    }
   ],
   "source": [
    "#tconf = TrainerConfig(max_epochs=10, batch_size=256)\n",
    "#trainer = Trainer(model, train_gen, train_gen, tconf)\n",
    "#trainer.train()\n",
    "\n",
    "mconf = min_gpt.GPTConfig(bbpe.get_vocab_size(),\n",
    "                          model_config.max_context,\n",
    "                          n_layer=model_config.N,\n",
    "                          n_head=model_config.h,\n",
    "                          n_embd=model_config.dim)\n",
    "mgmodel = min_gpt.GPT(mconf)"
   ]
  },
  {
   "cell_type": "code",
   "execution_count": 13,
   "id": "55f2ed3b",
   "metadata": {
    "scrolled": true
   },
   "outputs": [
    {
     "data": {
      "text/plain": [
       "<All keys matched successfully>"
      ]
     },
     "execution_count": 13,
     "metadata": {},
     "output_type": "execute_result"
    }
   ],
   "source": [
    "mgmodel.load_state_dict(torch.load(f'./saved_models/mingpt_n2_h8_d512_c64/1400'))"
   ]
  },
  {
   "cell_type": "code",
   "execution_count": 14,
   "id": "f0fd9501",
   "metadata": {},
   "outputs": [
    {
     "name": "stdout",
     "output_type": "stream",
     "text": [
      "Number of params in min GPT: 37061632\n"
     ]
    }
   ],
   "source": [
    "print('Number of params in min GPT:', sum(p.numel() for p in mgmodel.parameters()))"
   ]
  },
  {
   "cell_type": "code",
   "execution_count": 16,
   "id": "cb7ea843",
   "metadata": {},
   "outputs": [
    {
     "name": "stdout",
     "output_type": "stream",
     "text": [
      "Number of params in implementation: 37087539\n"
     ]
    }
   ],
   "source": [
    "print('Number of params in implementation:', sum(p.numel() for p in model_autoreg.parameters()))"
   ]
  },
  {
   "cell_type": "markdown",
   "id": "7bcb05c5",
   "metadata": {},
   "source": [
    "## Data Pipelines"
   ]
  },
  {
   "cell_type": "code",
   "execution_count": 15,
   "id": "2b84bf5f",
   "metadata": {
    "scrolled": true
   },
   "outputs": [
    {
     "name": "stdout",
     "output_type": "stream",
     "text": [
      "train lines: 4468840\n",
      "test lines: 2737\n"
     ]
    }
   ],
   "source": [
    "if 'train_lines' not in locals():\n",
    "    train_lines = sum(1 for line in open(data.TRAIN_PATH_EN, encoding='utf-8'))\n",
    "if 'test_lines' not in locals():\n",
    "    test_lines = sum(1 for line in open(data.TEST_PATH_EN, encoding='utf-8'))\n",
    "print(f'train lines: {train_lines}')\n",
    "print(f'test lines: {test_lines}')"
   ]
  },
  {
   "cell_type": "code",
   "execution_count": 16,
   "id": "0745570c",
   "metadata": {},
   "outputs": [
    {
     "data": {
      "text/plain": [
       "48"
      ]
     },
     "execution_count": 16,
     "metadata": {},
     "output_type": "execute_result"
    }
   ],
   "source": [
    "os.cpu_count()"
   ]
  },
  {
   "cell_type": "markdown",
   "id": "898f61b4",
   "metadata": {},
   "source": [
    "### training/ data params\n",
    "\n",
    "docs: https://pytorch.org/docs/stable/data.html#torch.utils.data.DataLoader"
   ]
  },
  {
   "cell_type": "code",
   "execution_count": 53,
   "id": "7e531573",
   "metadata": {
    "scrolled": true
   },
   "outputs": [],
   "source": [
    "importlib.reload(data)\n",
    "dataset_config = data.DatasetConfig(bbpe, model_config_large.max_context)\n",
    "tok_fn = partial(data.str_to_tok, add_start=False)\n",
    "tok_fn_w_start = partial(data.str_to_tok, add_start=True)\n",
    "\n",
    "def input_fn(en_line, de_line, data_config):\n",
    "    en_input = data.str_to_tok(en_line, data_config, add_start=True)\n",
    "    return [en_input]\n",
    "\n",
    "def target_fn(en_line, de_line, data_config):\n",
    "    return data.str_to_tok(en_line, data_config, add_start=False)\n",
    "\n",
    "batch_size = 64"
   ]
  },
  {
   "cell_type": "markdown",
   "id": "37ec6114",
   "metadata": {},
   "source": [
    " Training would be more efficient with seqlen-aware batching, but for now a first order implementation is sufficient"
   ]
  },
  {
   "cell_type": "code",
   "execution_count": 50,
   "id": "179868d3",
   "metadata": {},
   "outputs": [
    {
     "name": "stderr",
     "output_type": "stream",
     "text": [
      "INFO:root:Loading existing line breaks for file data/train.en at data/train.en_linebreaks.pickle\n",
      "INFO:root:Loading existing line breaks for file data/train.en at data/train.en_linebreaks.pickle\n",
      "INFO:root:IterShuffleMixin: Initializing 7919 pools with 564 lines per pool\n",
      "INFO:root:Loading existing line breaks for file data/test/newstest2014.en at data/test/newstest2014.en_linebreaks.pickle\n",
      "INFO:root:Loading existing line breaks for file data/test/newstest2014.en at data/test/newstest2014.en_linebreaks.pickle\n",
      "INFO:root:IterShuffleMixin: Initializing 101 pools with 27 lines per pool\n"
     ]
    }
   ],
   "source": [
    "# autoregressive training\n",
    "importlib.reload(data)\n",
    "\n",
    "train_dataset_autoreg = data.WMT2014Mixing(\n",
    "    num_pools=7919,  # pick a prime number\n",
    "    start_line=0,\n",
    "    end_line=train_lines,\n",
    "    process_inputs=input_fn,\n",
    "    process_target=target_fn,\n",
    "    dataset_config=dataset_config,\n",
    "    train=True,\n",
    "    overwrite_de_path=data.TRAIN_PATH_EN,\n",
    ")\n",
    "train_loader_autoreg = torch.utils.data.DataLoader(\n",
    "    train_dataset_autoreg,\n",
    "    batch_size=batch_size,\n",
    "    pin_memory=True,\n",
    ")\n",
    "\n",
    "test_dataset_autoreg = data.WMT2014Mixing(\n",
    "    num_pools=101,  # pick a prime number\n",
    "    start_line=0,\n",
    "    end_line=test_lines,\n",
    "    process_inputs=input_fn,\n",
    "    process_target=target_fn,\n",
    "    dataset_config=dataset_config,\n",
    "    train=False,\n",
    "    overwrite_de_path=data.TEST_PATH_EN,\n",
    ")\n",
    "test_loader_autoreg = torch.utils.data.DataLoader(\n",
    "    test_dataset_autoreg,\n",
    "    batch_size=batch_size,\n",
    "    pin_memory=True,\n",
    ")"
   ]
  },
  {
   "cell_type": "markdown",
   "id": "c5c711f8",
   "metadata": {},
   "source": [
    "## Training"
   ]
  },
  {
   "cell_type": "markdown",
   "id": "63162125",
   "metadata": {},
   "source": [
    "Paper uses:\n",
    "\n",
    "- emb_dimension, attn_dimension = 512\n",
    "- n_heads = 8\n",
    "- p_drop = 0.1\n",
    "- N = 6\n",
    "- train steps 100k\n",
    "\n",
    "We have less compute so need to scale down the model to fit on one GPU"
   ]
  },
  {
   "cell_type": "code",
   "execution_count": 51,
   "id": "6e750a5b",
   "metadata": {},
   "outputs": [
    {
     "data": {
      "text/plain": [
       "dict_keys(['mingpt_n2_h8_d512_c64', 'autoreg_n2_h8_d512_c64_wproj_xavier', 'autoreg_n2_h8_d512_c64_wproj_mingptinit', 'autoreg_n2_h8_d512_c64_wproj_mingptinit_learnablepe', 'autoreg_n2_h8_d512_c64_wproj_mingptinit_learnablepe_shuffle', 'autoreg_n8_h8_d512_c64_wproj_mingptinit_learnablepe_shuffle'])"
      ]
     },
     "execution_count": 51,
     "metadata": {},
     "output_type": "execute_result"
    }
   ],
   "source": [
    "#loss_histories = dict()\n",
    "with open('./saved_models/loss_histories.pickle', 'rb') as f:\n",
    "    loss_histories = pickle.load(f)\n",
    "loss_histories.keys()"
   ]
  },
  {
   "cell_type": "code",
   "execution_count": 23,
   "id": "c37e6939",
   "metadata": {
    "scrolled": true
   },
   "outputs": [
    {
     "name": "stdout",
     "output_type": "stream",
     "text": [
      "60 6.4260663986206055\n",
      "80 6.399242877960205\n",
      "100 6.249401569366455\n",
      "120 6.138819217681885\n",
      "140 5.903835296630859\n",
      "160 5.72847318649292\n",
      "180 5.541126251220703\n",
      "200 5.34946346282959\n",
      "220 5.3388285636901855\n",
      "240 5.214876174926758\n",
      "260 5.090947151184082\n",
      "280 5.006117343902588\n",
      "300 4.968453407287598\n",
      "320 4.794905662536621\n",
      "340 4.8333940505981445\n",
      "360 4.816373825073242\n",
      "380 4.795133590698242\n",
      "400 4.683652877807617\n",
      "420 4.760648250579834\n",
      "440 4.551636219024658\n",
      "460 4.597968578338623\n",
      "480 4.599761486053467\n",
      "500 4.492603778839111\n",
      "520 4.573078155517578\n",
      "540 4.4064812660217285\n",
      "560 4.560678005218506\n",
      "580 4.537132740020752\n",
      "600 4.426883220672607\n",
      "620 4.428097248077393\n",
      "640 4.292205333709717\n",
      "660 4.424023628234863\n",
      "680 4.543357849121094\n",
      "700 4.469935417175293\n",
      "720 4.338676929473877\n",
      "740 4.391097068786621\n",
      "760 4.280434608459473\n",
      "780 4.058974266052246\n",
      "800 4.397448539733887\n",
      "820 4.3116068840026855\n",
      "840 4.217288970947266\n",
      "860 4.14336633682251\n",
      "880 4.164153575897217\n",
      "900 4.279757022857666\n",
      "920 4.21989631652832\n",
      "940 4.125980854034424\n",
      "960 4.168471336364746\n",
      "980 4.177155494689941\n",
      "1000 4.204980850219727\n",
      "1020 4.096566677093506\n",
      "1080 4.011714935302734\n",
      "1100 4.110131740570068\n",
      "1120 4.119322299957275\n",
      "1140 4.159540176391602\n",
      "1160 4.0816545486450195\n",
      "1180 4.1846089363098145\n",
      "1200 4.080848217010498\n",
      "1220 4.03601598739624\n",
      "1240 4.0597662925720215\n",
      "1260 4.131321430206299\n",
      "1280 4.115393161773682\n",
      "1300 3.9519600868225098\n",
      "1320 4.048946857452393\n",
      "1340 4.016486167907715\n",
      "1360 4.180625915527344\n",
      "1380 4.032733917236328\n",
      "1400 3.8997859954833984\n"
     ]
    }
   ],
   "source": [
    "importlib.reload(train_utils)\n",
    "importlib.reload(data)\n",
    "\n",
    "_ = model_autoreg.apply(train_utils.min_gpt_init_weights)\n",
    "train_utils.train_autoregressive(\n",
    "    model_autoreg,\n",
    "    loss_histories,\n",
    "    'autoreg_n2_h8_d512_c64_wproj_mingptinit_learnablepe_shuffle',\n",
    "    'cuda',\n",
    "    train_loader_autoreg,\n",
    "    test_loader_autoreg,\n",
    "    dataset_config,\n",
    ")"
   ]
  },
  {
   "cell_type": "markdown",
   "id": "7db076fe",
   "metadata": {},
   "source": [
    "### train larger model"
   ]
  },
  {
   "cell_type": "code",
   "execution_count": 52,
   "id": "90fae241",
   "metadata": {},
   "outputs": [
    {
     "name": "stderr",
     "output_type": "stream",
     "text": [
      "INFO:root:saving models to ./saved_models/autoreg_n8_h8_d512_c64_wproj_mingptinit_learnablepe_shuffle\n",
      "  0%|          | 157/69826 [01:03<41:23:03,  2.14s/it]"
     ]
    },
    {
     "name": "stdout",
     "output_type": "stream",
     "text": [
      "       10048: training loss 5.741561412811279, test loss 5.889643857645434\n"
     ]
    },
    {
     "name": "stderr",
     "output_type": "stream",
     "text": [
      "  0%|          | 313/69826 [02:06<42:14:56,  2.19s/it]"
     ]
    },
    {
     "name": "stdout",
     "output_type": "stream",
     "text": [
      "       20032: training loss 4.7029547691345215, test loss 5.211967368458593\n"
     ]
    },
    {
     "name": "stderr",
     "output_type": "stream",
     "text": [
      "  1%|          | 625/69826 [04:07<50:10:25,  2.61s/it]"
     ]
    },
    {
     "name": "stdout",
     "output_type": "stream",
     "text": [
      "       40000: training loss 4.510544776916504, test loss 4.802123280458672\n"
     ]
    },
    {
     "name": "stderr",
     "output_type": "stream",
     "text": [
      "  2%|▏         | 1250/69826 [07:58<40:58:56,  2.15s/it]"
     ]
    },
    {
     "name": "stdout",
     "output_type": "stream",
     "text": [
      "       80000: training loss 4.143743515014648, test loss 4.520741950633914\n"
     ]
    },
    {
     "name": "stderr",
     "output_type": "stream",
     "text": [
      "  4%|▎         | 2500/69826 [15:37<40:33:51,  2.17s/it]"
     ]
    },
    {
     "name": "stdout",
     "output_type": "stream",
     "text": [
      "      160000: training loss 3.618058681488037, test loss 4.215647070906883\n"
     ]
    },
    {
     "name": "stderr",
     "output_type": "stream",
     "text": [
      "  7%|▋         | 5000/69826 [30:45<40:24:35,  2.24s/it]"
     ]
    },
    {
     "name": "stdout",
     "output_type": "stream",
     "text": [
      "      320000: training loss 3.5267579555511475, test loss 3.9713637274365094\n"
     ]
    },
    {
     "name": "stderr",
     "output_type": "stream",
     "text": [
      " 14%|█▍        | 10000/69826 [1:01:07<35:48:41,  2.15s/it]"
     ]
    },
    {
     "name": "stdout",
     "output_type": "stream",
     "text": [
      "      640000: training loss 3.2002744674682617, test loss 3.7635177235270656\n"
     ]
    },
    {
     "name": "stderr",
     "output_type": "stream",
     "text": [
      " 29%|██▊       | 20000/69826 [2:14:13<36:37:33,  2.65s/it]"
     ]
    },
    {
     "name": "stdout",
     "output_type": "stream",
     "text": [
      "     1280000: training loss 2.840376853942871, test loss 3.5856786550477495\n"
     ]
    },
    {
     "name": "stderr",
     "output_type": "stream",
     "text": [
      " 37%|███▋      | 25616/69826 [2:55:05<5:41:26,  2.16it/s] IOPub message rate exceeded.\n",
      "The notebook server will temporarily stop sending output\n",
      "to the client in order to avoid crashing it.\n",
      "To change this limit, set the config variable\n",
      "`--NotebookApp.iopub_msg_rate_limit`.\n",
      "\n",
      "Current values:\n",
      "NotebookApp.iopub_msg_rate_limit=1000.0 (msgs/sec)\n",
      "NotebookApp.rate_limit_window=3.0 (secs)\n",
      "\n",
      " 48%|████▊     | 33793/69826 [3:54:24<5:09:25,  1.94it/s]IOPub message rate exceeded.\n",
      "The notebook server will temporarily stop sending output\n",
      "to the client in order to avoid crashing it.\n",
      "To change this limit, set the config variable\n",
      "`--NotebookApp.iopub_msg_rate_limit`.\n",
      "\n",
      "Current values:\n",
      "NotebookApp.iopub_msg_rate_limit=1000.0 (msgs/sec)\n",
      "NotebookApp.rate_limit_window=3.0 (secs)\n",
      "\n",
      " 57%|█████▋    | 40000/69826 [4:39:40<19:54:22,  2.40s/it]"
     ]
    },
    {
     "name": "stdout",
     "output_type": "stream",
     "text": [
      "     2560000: training loss 2.9144368171691895, test loss 3.4298356688299845\n"
     ]
    },
    {
     "name": "stderr",
     "output_type": "stream",
     "text": [
      " 58%|█████▊    | 40800/69826 [4:45:32<3:18:20,  2.44it/s] IOPub message rate exceeded.\n",
      "The notebook server will temporarily stop sending output\n",
      "to the client in order to avoid crashing it.\n",
      "To change this limit, set the config variable\n",
      "`--NotebookApp.iopub_msg_rate_limit`.\n",
      "\n",
      "Current values:\n",
      "NotebookApp.iopub_msg_rate_limit=1000.0 (msgs/sec)\n",
      "NotebookApp.rate_limit_window=3.0 (secs)\n",
      "\n",
      " 70%|██████▉   | 48535/69826 [5:41:48<2:25:42,  2.44it/s]IOPub message rate exceeded.\n",
      "The notebook server will temporarily stop sending output\n",
      "to the client in order to avoid crashing it.\n",
      "To change this limit, set the config variable\n",
      "`--NotebookApp.iopub_msg_rate_limit`.\n",
      "\n",
      "Current values:\n",
      "NotebookApp.iopub_msg_rate_limit=1000.0 (msgs/sec)\n",
      "NotebookApp.rate_limit_window=3.0 (secs)\n",
      "\n",
      " 99%|█████████▉| 69296/69826 [8:11:06<03:31,  2.50it/s]  "
     ]
    }
   ],
   "source": [
    "importlib.reload(models)\n",
    "importlib.reload(train_utils)\n",
    "importlib.reload(data)\n",
    "importlib.reload(utils)\n",
    "\n",
    "model_autoreg_large = models.Autoregressive.from_config(model_config_large)\n",
    "_ = model_autoreg_large.apply(train_utils.min_gpt_init_weights)\n",
    "train_utils.train_epoch(\n",
    "    model_autoreg_large,\n",
    "    loss_histories,\n",
    "    'autoreg_n8_h8_d512_c64_wproj_mingptinit_learnablepe_shuffle',\n",
    "    'cuda',\n",
    "    train_loader_autoreg,\n",
    "    test_loader_autoreg,\n",
    "    dataset_config,\n",
    "    save_every=100000,\n",
    "    eval_every=10000,\n",
    "    save_state_only=True,\n",
    ")"
   ]
  },
  {
   "cell_type": "code",
   "execution_count": 54,
   "id": "966b0b19",
   "metadata": {},
   "outputs": [],
   "source": [
    "with open('./saved_models/loss_histories.pickle', 'wb') as f:\n",
    "    pickle.dump(loss_histories, f)"
   ]
  },
  {
   "cell_type": "markdown",
   "id": "fa62bc7c",
   "metadata": {},
   "source": [
    "# Analysis of small models (n=2)\n",
    "\n",
    "### Some observations\n",
    "- Initialization doesn't matter here for these models, sim to reported in GPT paper\n",
    "- Adding an extra projection (Attn is all you need vs. GPT) makes very little difference\n",
    "- GELU vs RELU doesn't make much of a difference at this scale/ on this dataset\n",
    "- Raw WMT14 data is non-random and needs to be pseudo-shuffled\n",
    "- **Learnable positional encoding makes by far the largest difference**\n"
   ]
  },
  {
   "cell_type": "code",
   "execution_count": 56,
   "id": "419e102c",
   "metadata": {},
   "outputs": [],
   "source": [
    "def plot_avg(series, window, *args, **kwargs):\n",
    "    avgs = []\n",
    "    for i in range(0, len(series), window):\n",
    "        avgs.append(np.mean(series[i:i+window]))\n",
    "    plt.plot(avgs, *args, **kwargs)"
   ]
  },
  {
   "cell_type": "markdown",
   "id": "7bd6f37a",
   "metadata": {},
   "source": [
    "###  min GPT vs implementation\n",
    "\n",
    "Main difference seems to be the use of learnable position embeddings (PE), which the \"attention is all you need\" did not use but is used in modern attention architectures.\n",
    "\n",
    "Initialization does not make much difference, although minGPT seems slightly better.\n",
    "\n",
    "Note we train << 1 epoch to save time"
   ]
  },
  {
   "cell_type": "code",
   "execution_count": 80,
   "id": "a649707b",
   "metadata": {},
   "outputs": [
    {
     "data": {
      "text/plain": [
       "Text(0.5, 1.0, 'training curves for different implementations')"
      ]
     },
     "execution_count": 80,
     "metadata": {},
     "output_type": "execute_result"
    },
    {
     "data": {
      "image/png": "[encoded data removed]",
      "text/plain": [
       "<Figure size 432x288 with 1 Axes>"
      ]
     },
     "metadata": {
      "needs_background": "light"
     },
     "output_type": "display_data"
    }
   ],
   "source": [
    "window = 50\n",
    "plot_avg(loss_histories['mingpt_n2_h8_d512_c64'], window, 'k--', linewidth=3)\n",
    "plot_avg(loss_histories['autoreg_n2_h8_d512_c64_wproj_xavier'], window, '.-')\n",
    "plot_avg(loss_histories['autoreg_n2_h8_d512_c64_wproj_mingptinit'], window, '.-')\n",
    "plot_avg(loss_histories['autoreg_n2_h8_d512_c64_wproj_mingptinit_learnablepe'], window, '.-')\n",
    "plt.legend(['minGPT', 'Impl + xavier init', 'Impl + min GPT init', 'Impl + min GPT init + learnable PE'])\n",
    "plt.title('training curves for different implementations')"
   ]
  },
  {
   "cell_type": "markdown",
   "id": "da9c283c",
   "metadata": {},
   "source": [
    "### Data periodicity\n",
    "\n",
    "There is some strange periodicity in the loss function which suggest that the data is not uniformly distributed. Because the data came in a single file, we built an iterator-based dataset which does not enable shuffling. This was fixed in the `WMT14Mixing` class."
   ]
  },
  {
   "cell_type": "code",
   "execution_count": 42,
   "id": "976f0c42",
   "metadata": {},
   "outputs": [
    {
     "data": {
      "text/plain": [
       "(0.0, 500.0)"
      ]
     },
     "execution_count": 42,
     "metadata": {},
     "output_type": "execute_result"
    },
    {
     "data": {
      "image/png": "[encoded data removed]",
      "text/plain": [
       "<Figure size 432x288 with 1 Axes>"
      ]
     },
     "metadata": {
      "needs_background": "light"
     },
     "output_type": "display_data"
    }
   ],
   "source": [
    "plt.figure()\n",
    "plt.grid(which='both')\n",
    "plt.xticks(range(0, 1400, 40))\n",
    "window = 1\n",
    "plot_avg(loss_histories['autoreg_n2_h8_d512_c64_wproj_mingptinit_learnablepe'], window, '.-')\n",
    "plt.xlim([0, 500])"
   ]
  },
  {
   "cell_type": "code",
   "execution_count": 43,
   "id": "916eb981",
   "metadata": {},
   "outputs": [],
   "source": [
    "def read_line_at_batch(batch_id):\n",
    "    line_num = batch_id * batch_size\n",
    "    with open(data.TRAIN_PATH_EN, 'r', encoding='utf-8') as f:\n",
    "        f.seek(train_dataset.en_linebreaks[line_num], 0)\n",
    "        print(f.readline())"
   ]
  },
  {
   "cell_type": "code",
   "execution_count": 47,
   "id": "5f0b7020",
   "metadata": {},
   "outputs": [
    {
     "name": "stdout",
     "output_type": "stream",
     "text": [
      "hard line\n",
      " of soldiers , I tell the girls to get out of the car .\n",
      "\n",
      "easy line\n",
      " town .\n",
      "\n"
     ]
    }
   ],
   "source": [
    "print('hard line')\n",
    "read_line_at_batch(300)\n",
    "print('easy line')\n",
    "read_line_at_batch(360)"
   ]
  },
  {
   "cell_type": "markdown",
   "id": "7828651b",
   "metadata": {},
   "source": [
    "We see that some lines are mostly not in English "
   ]
  },
  {
   "cell_type": "code",
   "execution_count": 48,
   "id": "b3dac455",
   "metadata": {},
   "outputs": [
    {
     "name": "stdout",
     "output_type": "stream",
     "text": [
      "hard line\n",
      "ay at the Pousadas de Compostela Hotel Airas Nunes ?\n",
      "\n",
      "easy line\n",
      "t be tempted to walk back to your hotel unless you are close by .\n",
      "\n"
     ]
    }
   ],
   "source": [
    "print('hard line')\n",
    "read_line_at_batch(160) # hard\n",
    "print('easy line')\n",
    "read_line_at_batch(200) # easy"
   ]
  },
  {
   "cell_type": "code",
   "execution_count": 79,
   "id": "ccb4ba27",
   "metadata": {},
   "outputs": [
    {
     "data": {
      "text/plain": [
       "<matplotlib.legend.Legend at 0x7f0d42acde10>"
      ]
     },
     "execution_count": 79,
     "metadata": {},
     "output_type": "execute_result"
    },
    {
     "data": {
      "image/png": "[encoded data removed]",
      "text/plain": [
       "<Figure size 432x288 with 1 Axes>"
      ]
     },
     "metadata": {
      "needs_background": "light"
     },
     "output_type": "display_data"
    }
   ],
   "source": [
    "plt.plot(loss_histories['autoreg_n2_h8_d512_c64_wproj_mingptinit_learnablepe'], alpha=.5)\n",
    "plt.plot(loss_histories['autoreg_n2_h8_d512_c64_wproj_mingptinit_learnablepe_shuffle'])\n",
    "plt.legend(['iterable dataset', 'pseudo-shuffled dataset'])"
   ]
  },
  {
   "cell_type": "markdown",
   "id": "08148787",
   "metadata": {},
   "source": [
    "Previous experiments show that gradient clipping makes little difference "
   ]
  },
  {
   "cell_type": "markdown",
   "id": "efb56f9d",
   "metadata": {},
   "source": [
    "## Analysis of large model (n = 8)\n",
    "trained for 1 epoch only due to time/ compute constraints"
   ]
  },
  {
   "cell_type": "code",
   "execution_count": 78,
   "id": "16120aa8",
   "metadata": {},
   "outputs": [
    {
     "data": {
      "text/plain": [
       "<matplotlib.legend.Legend at 0x7f0d42728ac8>"
      ]
     },
     "execution_count": 78,
     "metadata": {},
     "output_type": "execute_result"
    },
    {
     "data": {
      "image/png": "[encoded data removed]",
      "text/plain": [
       "<Figure size 432x288 with 1 Axes>"
      ]
     },
     "metadata": {
      "needs_background": "light"
     },
     "output_type": "display_data"
    }
   ],
   "source": [
    "plt.plot(*zip(*loss_histories['autoreg_n8_h8_d512_c64_wproj_mingptinit_learnablepe_shuffle']['train_loss']), alpha=.5)\n",
    "plt.plot(*zip(*loss_histories['autoreg_n8_h8_d512_c64_wproj_mingptinit_learnablepe_shuffle']['test_loss']), '.-')\n",
    "plt.title('Train and test loss')\n",
    "plt.legend(['train loss', 'test loss'])"
   ]
  },
  {
   "cell_type": "markdown",
   "id": "2cf04e31",
   "metadata": {},
   "source": [
    "## Sampling\n",
    "\n",
    "The larger model is slightly better than the smaller model but both are very, very far from current sota"
   ]
  },
  {
   "cell_type": "code",
   "execution_count": 100,
   "id": "a473a722",
   "metadata": {},
   "outputs": [
    {
     "data": {
      "text/plain": [
       "<All keys matched successfully>"
      ]
     },
     "execution_count": 100,
     "metadata": {},
     "output_type": "execute_result"
    }
   ],
   "source": [
    "model_autoreg.load_state_dict(\n",
    "    torch.load(\n",
    "        'saved_models/autoreg_n2_h8_d512_c64_wproj_mingptinit_learnablepe_shuffle/1400'\n",
    "    ))"
   ]
  },
  {
   "cell_type": "code",
   "execution_count": 212,
   "id": "2760bbdc",
   "metadata": {},
   "outputs": [
    {
     "data": {
      "text/plain": [
       "b'The hotel offers cost old all solders with a'"
      ]
     },
     "execution_count": 212,
     "metadata": {},
     "output_type": "execute_result"
    }
   ],
   "source": [
    "importlib.reload(utils)\n",
    "utils.sample_autoregressive(model_autoreg, '', 10, dataset_config)"
   ]
  },
  {
   "cell_type": "code",
   "execution_count": 211,
   "id": "3f713747",
   "metadata": {},
   "outputs": [
    {
     "data": {
      "text/plain": [
       "b'When would you like to stay at the Gift'"
      ]
     },
     "execution_count": 211,
     "metadata": {},
     "output_type": "execute_result"
    }
   ],
   "source": [
    "utils.sample_autoregressive(mgmodel, '', 10, dataset_config)"
   ]
  },
  {
   "cell_type": "code",
   "execution_count": 85,
   "id": "b472db7f",
   "metadata": {},
   "outputs": [
    {
     "data": {
      "text/plain": [
       "b'We consider that the deficit has to do away with the revenues from fossil fu'"
      ]
     },
     "execution_count": 85,
     "metadata": {},
     "output_type": "execute_result"
    }
   ],
   "source": [
    "utils.sample_autoregressive(model_autoreg_large, '', 20, dataset_config)"
   ]
  },
  {
   "cell_type": "code",
   "execution_count": 102,
   "id": "bfaad3be",
   "metadata": {},
   "outputs": [
    {
     "data": {
      "text/plain": [
       "b'The big white dog are twinnesses to the authority where his transport is some otherone being close to'"
      ]
     },
     "execution_count": 102,
     "metadata": {},
     "output_type": "execute_result"
    }
   ],
   "source": [
    "utils.sample_autoregressive(model_autoreg, 'The big white dog', 20, dataset_config)"
   ]
  },
  {
   "cell_type": "code",
   "execution_count": 109,
   "id": "a129793a",
   "metadata": {},
   "outputs": [
    {
     "data": {
      "text/plain": [
       "b'The big white dog was amazing white on the stone site of The North Neckland , following'"
      ]
     },
     "execution_count": 109,
     "metadata": {},
     "output_type": "execute_result"
    }
   ],
   "source": [
    "utils.sample_autoregressive(model_autoreg_large, 'The big white dog', 20, dataset_config)"
   ]
  },
  {
   "cell_type": "code",
   "execution_count": 111,
   "id": "492adc56",
   "metadata": {},
   "outputs": [
    {
     "data": {
      "text/plain": [
       "b'My favorite food is co release . closedness .\\n'"
      ]
     },
     "execution_count": 111,
     "metadata": {},
     "output_type": "execute_result"
    }
   ],
   "source": [
    "utils.sample_autoregressive(model_autoreg, 'My favorite food is ', 20, dataset_config)"
   ]
  },
  {
   "cell_type": "code",
   "execution_count": 110,
   "id": "f87e808d",
   "metadata": {},
   "outputs": [
    {
     "data": {
      "text/plain": [
       "b'My favorite food is either a smoke bag of roulette or a glass of Alsa , though'"
      ]
     },
     "execution_count": 110,
     "metadata": {},
     "output_type": "execute_result"
    }
   ],
   "source": [
    "utils.sample_autoregressive(model_autoreg_large, 'My favorite food is ', 20, dataset_config)"
   ]
  }
 ],
 "metadata": {
  "kernelspec": {
   "display_name": "Python 3",
   "language": "python",
   "name": "python3"
  },
  "language_info": {
   "codemirror_mode": {
    "name": "ipython",
    "version": 3
   },
   "file_extension": ".py",
   "mimetype": "text/x-python",
   "name": "python",
   "nbconvert_exporter": "python",
   "pygments_lexer": "ipython3",
   "version": "3.6.9"
  }
 },
 "nbformat": 4,
 "nbformat_minor": 5
}
