{
 "cells": [
  {
   "cell_type": "markdown",
   "id": "f7e70969",
   "metadata": {},
   "source": [
    "# \"Attention is All You Need\" in Pytorch\n",
    "\n",
    "Attention is all you need paper: https://arxiv.org/pdf/1706.03762.pdf\n",
    "\n",
    "\"We trained on the standard WMT 2014 English-German dataset consisting of about 4.5 million\n",
    "sentence pairs. Sentences were encoded using byte-pair encoding [3], which has a shared sourcetarget vocabulary of about 37000 tokens.\"\n"
   ]
  },
  {
   "cell_type": "markdown",
   "id": "2aa83aea",
   "metadata": {},
   "source": [
    "Data was downloaded manually from https://nlp.stanford.edu/projects/nmt/ since torchnlp seems to be broken"
   ]
  },
  {
   "cell_type": "code",
   "execution_count": 1,
   "id": "7a5509e5",
   "metadata": {},
   "outputs": [],
   "source": [
    "import os\n",
    "os.environ['CUDA_LAUNCH_BLOCKING'] = \"1\""
   ]
  },
  {
   "cell_type": "code",
   "execution_count": 2,
   "id": "31b763cf",
   "metadata": {},
   "outputs": [],
   "source": [
    "from collections import OrderedDict\n",
    "from functools import partial\n",
    "import importlib\n",
    "import matplotlib.pyplot as plt\n",
    "import math\n",
    "import numpy as np\n",
    "import pickle\n",
    "\n",
    "import torch\n",
    "import torch.nn as nn\n",
    "import torch.nn.functional as F"
   ]
  },
  {
   "cell_type": "code",
   "execution_count": 23,
   "id": "84309abb",
   "metadata": {},
   "outputs": [
    {
     "data": {
      "text/plain": [
       "<module 'src.torch_models' from '/mnt/ml_implementations/torch/attention/src/torch_models.py'>"
      ]
     },
     "execution_count": 23,
     "metadata": {},
     "output_type": "execute_result"
    }
   ],
   "source": [
    "from src import data\n",
    "from src import torch_models as models\n",
    "from src import train_utils\n",
    "import src.utils as utils\n",
    "\n",
    "# reload during active development\n",
    "importlib.reload(data)\n",
    "importlib.reload(models)"
   ]
  },
  {
   "cell_type": "code",
   "execution_count": 4,
   "id": "e8c0baec",
   "metadata": {},
   "outputs": [],
   "source": [
    "import logging\n",
    "logging.basicConfig()\n",
    "logger = logging.getLogger()\n",
    "logger.setLevel(logging.INFO)"
   ]
  },
  {
   "cell_type": "markdown",
   "id": "463725b6",
   "metadata": {},
   "source": [
    "## Train tokenizer using BBPE\n",
    "\n",
    "\"Sentences were encoded using byte-pair encoding [3], which has a shared sourcetarget vocabulary of about 37000 tokens\""
   ]
  },
  {
   "cell_type": "markdown",
   "id": "c0fce0b8",
   "metadata": {},
   "source": [
    "Use tokenizers from huggingface"
   ]
  },
  {
   "cell_type": "code",
   "execution_count": 5,
   "id": "84cdaea0",
   "metadata": {},
   "outputs": [],
   "source": [
    "train_path_en = 'data/train.en'\n",
    "train_path_de = 'data/train.de'\n",
    "tokenizer_path = \"data/tokenizer-bbpe-joint.json\""
   ]
  },
  {
   "cell_type": "code",
   "execution_count": 6,
   "id": "5668bd7c",
   "metadata": {},
   "outputs": [
    {
     "name": "stderr",
     "output_type": "stream",
     "text": [
      "INFO:root:loading BBPE tokenizer at data/tokenizer-bbpe-joint.json\n"
     ]
    }
   ],
   "source": [
    "bbpe = data.get_bbpe_tokenizer(tokenizer_path, data_file_list=[train_path_en, train_path_de])"
   ]
  },
  {
   "cell_type": "code",
   "execution_count": 7,
   "id": "aca11d92",
   "metadata": {},
   "outputs": [
    {
     "name": "stdout",
     "output_type": "stream",
     "text": [
      "[3120, 336, 1818, 267, 21573, 277, 3099, 1019, 1203, 4027, 286, 10936, 316, 22466, 1014, 512, 6690, 9969, 85, 2143, 536, 24299]\n"
     ]
    },
    {
     "data": {
      "text/plain": [
       "'this is a test sentence for byte pair encoding outofvocabword'"
      ]
     },
     "execution_count": 7,
     "metadata": {},
     "output_type": "execute_result"
    }
   ],
   "source": [
    "encoding = bbpe.encode(\n",
    "    'this is a test sentence for byte pair encoding outofvocabword')\n",
    "print(encoding.ids)\n",
    "bbpe.decode(encoding.ids)"
   ]
  },
  {
   "cell_type": "code",
   "execution_count": 8,
   "id": "32686d4e",
   "metadata": {},
   "outputs": [
    {
     "name": "stdout",
     "output_type": "stream",
     "text": [
      "[1131, 362, 289, 3509, 1077, 369, 272, 14607, 286, 27719, 12, 42, 1014, 661, 344, 6690, 9969, 85, 2143, 536, 24299]\n"
     ]
    },
    {
     "data": {
      "text/plain": [
       "'Dies ist ein Testsatz für die Bytepaar-Kodierung von outofvocabword'"
      ]
     },
     "execution_count": 8,
     "metadata": {},
     "output_type": "execute_result"
    }
   ],
   "source": [
    "encoding = bbpe.encode(\n",
    "    'Dies ist ein Testsatz für die Bytepaar-Kodierung von outofvocabword')\n",
    "print(encoding.ids)\n",
    "bbpe.decode(encoding.ids)"
   ]
  },
  {
   "cell_type": "markdown",
   "id": "d6d55e11",
   "metadata": {},
   "source": [
    "## Build Model"
   ]
  },
  {
   "cell_type": "code",
   "execution_count": 9,
   "id": "ddae99a9",
   "metadata": {},
   "outputs": [],
   "source": [
    "importlib.reload(models)\n",
    "importlib.reload(train_utils)\n",
    "max_seqlen = 64\n",
    "model_config = models.ModelConfig(\n",
    "    dim=512,\n",
    "    N=2,\n",
    "    h=8,\n",
    "    V=bbpe.get_vocab_size(),\n",
    "    max_context=max_seqlen,\n",
    "    drop_rate=0.01,\n",
    "    position_encoding_class=models.LearnablePositionalEncoding,\n",
    ")"
   ]
  },
  {
   "cell_type": "code",
   "execution_count": 11,
   "id": "2815a7ae",
   "metadata": {},
   "outputs": [],
   "source": [
    "seqlen = 22\n",
    "tokens = [1] * seqlen\n",
    "tokens = torch.tensor(tokens).unsqueeze(0)"
   ]
  },
  {
   "cell_type": "markdown",
   "id": "5491bb1c",
   "metadata": {},
   "source": [
    "### Attn is all you need encoder-decoder"
   ]
  },
  {
   "cell_type": "code",
   "execution_count": 77,
   "id": "2d4b5d09",
   "metadata": {
    "scrolled": true
   },
   "outputs": [
    {
     "data": {
      "text/plain": [
       "tensor([[[456.4881, 456.4881, 456.4881,  ..., 456.4870, 456.4870, 456.4870],\n",
       "         [379.1380, 379.1380, 379.1380,  ..., 379.1373, 379.1373, 379.1373],\n",
       "         [729.3707, 729.3707, 729.3707,  ..., 729.3685, 729.3685, 729.3685],\n",
       "         ...,\n",
       "         [354.6602, 354.6602, 354.6602,  ..., 354.6608, 354.6608, 354.6608],\n",
       "         [985.1044, 985.1044, 985.1044,  ..., 985.1044, 985.1044, 985.1044],\n",
       "         [360.9518, 360.9518, 360.9518,  ..., 360.9523, 360.9523, 360.9523]]],\n",
       "       grad_fn=<AddBackward0>)"
      ]
     },
     "execution_count": 77,
     "metadata": {},
     "output_type": "execute_result"
    }
   ],
   "source": [
    "importlib.reload(models)\n",
    "model_encdec = models.AttnIsAllYouNeed.from_config(model_config)\n",
    "\n",
    "_ = model_encdec.apply(train_utils.init_ones)\n",
    "model_encdec(tokens, tokens)"
   ]
  },
  {
   "cell_type": "code",
   "execution_count": 14,
   "id": "7347dd11",
   "metadata": {},
   "outputs": [
    {
     "data": {
      "text/plain": [
       "45489459"
      ]
     },
     "execution_count": 14,
     "metadata": {},
     "output_type": "execute_result"
    }
   ],
   "source": [
    "sum(p.numel() for p in model_encdec.parameters())"
   ]
  },
  {
   "cell_type": "markdown",
   "id": "7bcb05c5",
   "metadata": {},
   "source": [
    "## Data Pipelines"
   ]
  },
  {
   "cell_type": "code",
   "execution_count": 13,
   "id": "b5be1e72",
   "metadata": {
    "scrolled": true
   },
   "outputs": [
    {
     "name": "stdout",
     "output_type": "stream",
     "text": [
      "train lines: 4468840\n",
      "test lines: 2737\n"
     ]
    }
   ],
   "source": [
    "if 'train_lines' not in locals():\n",
    "    train_lines = sum(1 for line in open(data.TRAIN_PATH_EN, encoding='utf-8'))\n",
    "if 'test_lines' not in locals():\n",
    "    test_lines = sum(1 for line in open(data.TEST_PATH_DE, encoding='utf-8'))\n",
    "print(f'train lines: {train_lines}')\n",
    "print(f'test lines: {test_lines}')"
   ]
  },
  {
   "cell_type": "code",
   "execution_count": 14,
   "id": "630aaff1",
   "metadata": {},
   "outputs": [
    {
     "data": {
      "text/plain": [
       "48"
      ]
     },
     "execution_count": 14,
     "metadata": {},
     "output_type": "execute_result"
    }
   ],
   "source": [
    "os.cpu_count()"
   ]
  },
  {
   "cell_type": "markdown",
   "id": "033844c5",
   "metadata": {},
   "source": [
    "### training/ data params\n",
    "\n",
    "docs: https://pytorch.org/docs/stable/data.html#torch.utils.data.DataLoader"
   ]
  },
  {
   "cell_type": "code",
   "execution_count": 106,
   "id": "1afc3ff2",
   "metadata": {},
   "outputs": [],
   "source": [
    "importlib.reload(data)\n",
    "dataset_config = data.DatasetConfig(bbpe, model_config.max_context)\n",
    "\n",
    "# NB: add start token to German tokens (input into decoder stack)\n",
    "# given start token and english sentence, we want the model to output the first german word\n",
    "# Note lack of start token on target_fn\n",
    "def input_fn(en_line, de_line, data_config):\n",
    "    en_input = data.str_to_tok(en_line, data_config, add_start=False)\n",
    "    de_input = data.str_to_tok(de_line, data_config, add_start=True)\n",
    "    return (en_input, de_input)\n",
    "\n",
    "def target_fn(en_line, de_line, data_config):\n",
    "    return data.str_to_tok(de_line, data_config, add_start=False)\n",
    "    \n",
    "batch_size = 64"
   ]
  },
  {
   "cell_type": "markdown",
   "id": "37ec6114",
   "metadata": {},
   "source": [
    " Training would be more efficient with seqlen-aware batching, but for now a first order implementation is sufficient"
   ]
  },
  {
   "cell_type": "code",
   "execution_count": 107,
   "id": "145b88e6",
   "metadata": {},
   "outputs": [
    {
     "name": "stderr",
     "output_type": "stream",
     "text": [
      "INFO:root:Loading existing line breaks for file data/train.en at data/train.en_linebreaks.pickle\n",
      "INFO:root:Loading existing line breaks for file data/train.de at data/train.de_linebreaks.pickle\n",
      "INFO:root:IterShuffleMixin: Initializing 7919 pools with 564 lines per pool\n",
      "INFO:root:Loading existing line breaks for file data/test/newstest2014.en at data/test/newstest2014.en_linebreaks.pickle\n",
      "INFO:root:Loading existing line breaks for file data/test/newstest2014.de at data/test/newstest2014.de_linebreaks.pickle\n",
      "INFO:root:IterShuffleMixin: Initializing 101 pools with 27 lines per pool\n"
     ]
    }
   ],
   "source": [
    "# translation training\n",
    "importlib.reload(data)\n",
    "importlib.reload(train_utils)\n",
    "importlib.reload(utils)\n",
    "\n",
    "train_dataset = data.WMT2014Mixing(\n",
    "    num_pools=7919,  # pick a prime number\n",
    "    start_line=0,\n",
    "    end_line=train_lines,\n",
    "    process_inputs=input_fn,\n",
    "    process_target=target_fn,\n",
    "    dataset_config=dataset_config,\n",
    "    train=True,\n",
    ")\n",
    "train_loader = torch.utils.data.DataLoader(\n",
    "    train_dataset,\n",
    "    batch_size=batch_size,\n",
    ")\n",
    "\n",
    "test_dataset = data.WMT2014Mixing(\n",
    "    num_pools=101,  # pick a prime number\n",
    "    start_line=0,\n",
    "    end_line=test_lines,\n",
    "    process_inputs=input_fn,\n",
    "    process_target=target_fn,\n",
    "    dataset_config=dataset_config,\n",
    "    train=False,\n",
    ")\n",
    "test_loader = torch.utils.data.DataLoader(\n",
    "    test_dataset,\n",
    "    batch_size=batch_size,\n",
    ")"
   ]
  },
  {
   "cell_type": "markdown",
   "id": "c5c711f8",
   "metadata": {},
   "source": [
    "## Training"
   ]
  },
  {
   "cell_type": "markdown",
   "id": "63162125",
   "metadata": {},
   "source": [
    "Paper uses:\n",
    "\n",
    "- emb_dimension, attn_dimension = 512\n",
    "- n_heads = 8\n",
    "- p_drop = 0.1\n",
    "- N = 6\n",
    "- train steps 100k\n",
    "\n",
    "We have less compute so need to scale down the model to fit on one GPU"
   ]
  },
  {
   "cell_type": "code",
   "execution_count": 69,
   "id": "0b0daaa4",
   "metadata": {
    "scrolled": true
   },
   "outputs": [
    {
     "data": {
      "text/plain": [
       "dict_keys(['encdec_n2_h8_d512_c64_wproj_mingptinit_learnablepe_shuffle'])"
      ]
     },
     "execution_count": 69,
     "metadata": {},
     "output_type": "execute_result"
    }
   ],
   "source": [
    "loss_history_path = './saved_models/encdec_loss_histories.pickle'\n",
    "if os.path.exists(loss_history_path):\n",
    "    with open(loss_history_path, 'rb') as f:\n",
    "        loss_histories = pickle.load(f)\n",
    "else:\n",
    "    loss_histories = dict()\n",
    "loss_histories.keys()"
   ]
  },
  {
   "cell_type": "markdown",
   "id": "cc81a509",
   "metadata": {},
   "source": [
    "We need a custom function to call our model because it accepts two different inputs"
   ]
  },
  {
   "cell_type": "code",
   "execution_count": 109,
   "id": "b9c32af4",
   "metadata": {},
   "outputs": [],
   "source": [
    "def model_call(model, inputs):\n",
    "    en = inputs[:,0,:]\n",
    "    de_w_start_tok = inputs[:,1,:]\n",
    "    return model(en, de_w_start_tok)"
   ]
  },
  {
   "cell_type": "code",
   "execution_count": 110,
   "id": "a8782695",
   "metadata": {},
   "outputs": [],
   "source": [
    "_ = model_encdec.apply(train_utils.min_gpt_init_weights)"
   ]
  },
  {
   "cell_type": "markdown",
   "id": "43fe5eb4",
   "metadata": {},
   "source": [
    "Train toy model on 48xCPU as a sanity check"
   ]
  },
  {
   "cell_type": "code",
   "execution_count": 111,
   "id": "54873314",
   "metadata": {},
   "outputs": [],
   "source": [
    "expt_key = 'encdec_n2_h8_d512_c64_wproj_mingptinit_learnablepe_shuffle'"
   ]
  },
  {
   "cell_type": "code",
   "execution_count": 118,
   "id": "4239429c",
   "metadata": {
    "scrolled": true
   },
   "outputs": [
    {
     "name": "stderr",
     "output_type": "stream",
     "text": [
      "INFO:root:saving models to ./saved_models/encdec_n2_h8_d512_c64_wproj_mingptinit_learnablepe_shuffle\n",
      "  2%|▏         | 1563/69826 [09:14<46:28:33,  2.45s/it]"
     ]
    },
    {
     "name": "stdout",
     "output_type": "stream",
     "text": [
      "      100032: training loss 5.014059066772461, test loss 5.772504125322614\n"
     ]
    },
    {
     "name": "stderr",
     "output_type": "stream",
     "text": [
      "  4%|▍         | 3125/69826 [18:27<43:33:15,  2.35s/it]"
     ]
    },
    {
     "name": "stdout",
     "output_type": "stream",
     "text": [
      "      200000: training loss 4.997960567474365, test loss 5.556138753890991\n"
     ]
    },
    {
     "name": "stderr",
     "output_type": "stream",
     "text": [
      "  9%|▉         | 6250/69826 [36:53<42:38:01,  2.41s/it]"
     ]
    },
    {
     "name": "stdout",
     "output_type": "stream",
     "text": [
      "      400000: training loss 4.94189453125, test loss 5.314173017229352\n"
     ]
    },
    {
     "name": "stderr",
     "output_type": "stream",
     "text": [
      " 18%|█▊        | 12500/69826 [1:13:42<39:49:10,  2.50s/it]"
     ]
    },
    {
     "name": "stdout",
     "output_type": "stream",
     "text": [
      "      800000: training loss 4.444680690765381, test loss 5.056511844907488\n"
     ]
    },
    {
     "name": "stderr",
     "output_type": "stream",
     "text": [
      " 36%|███▌      | 25000/69826 [2:27:25<30:27:51,  2.45s/it]"
     ]
    },
    {
     "name": "stdout",
     "output_type": "stream",
     "text": [
      "     1600000: training loss 4.2262725830078125, test loss 4.805707170849755\n"
     ]
    },
    {
     "name": "stderr",
     "output_type": "stream",
     "text": [
      " 72%|███████▏  | 50000/69826 [4:53:34<16:30:20,  3.00s/it]"
     ]
    },
    {
     "name": "stdout",
     "output_type": "stream",
     "text": [
      "     3200000: training loss 4.076580047607422, test loss 4.60772601948228\n"
     ]
    },
    {
     "name": "stderr",
     "output_type": "stream",
     "text": [
      "100%|█████████▉| 69565/69826 [6:48:18<01:14,  3.50it/s]   \n"
     ]
    },
    {
     "name": "stdout",
     "output_type": "stream",
     "text": [
      "Final:      4452160: training loss 3.722892999649048, test loss 4.514776048206148\n"
     ]
    }
   ],
   "source": [
    "importlib.reload(train_utils)\n",
    "importlib.reload(data)\n",
    "\n",
    "train_utils.train_epoch(\n",
    "    model_encdec,\n",
    "    loss_histories,\n",
    "    expt_key,\n",
    "    'cuda',\n",
    "    train_loader,\n",
    "    test_loader,\n",
    "    dataset_config,\n",
    "    model_call = model_call,\n",
    "    eval_every=100000,\n",
    "    save_every=100000,\n",
    "    save_state_only=True,\n",
    ")"
   ]
  },
  {
   "cell_type": "code",
   "execution_count": 119,
   "id": "966b0b19",
   "metadata": {},
   "outputs": [],
   "source": [
    "with open(loss_history_path, 'wb') as f:\n",
    "    pickle.dump(loss_histories, f)"
   ]
  },
  {
   "cell_type": "code",
   "execution_count": 133,
   "id": "f8195e58",
   "metadata": {},
   "outputs": [
    {
     "data": {
      "text/plain": [
       "[<matplotlib.lines.Line2D at 0x7fae3f0599e8>]"
      ]
     },
     "execution_count": 133,
     "metadata": {},
     "output_type": "execute_result"
    },
    {
     "data": {
      "image/png": "[encoded data removed]",
      "text/plain": [
       "<Figure size 432x288 with 1 Axes>"
      ]
     },
     "metadata": {
      "needs_background": "light"
     },
     "output_type": "display_data"
    }
   ],
   "source": [
    "plt.plot(*zip(*loss_histories[expt_key]['train_loss']), alpha=.5)\n",
    "plt.plot(*zip(*loss_histories[expt_key]['test_loss']), '.-', linewidth=2)"
   ]
  }
 ],
 "metadata": {
  "kernelspec": {
   "display_name": "Python 3",
   "language": "python",
   "name": "python3"
  },
  "language_info": {
   "codemirror_mode": {
    "name": "ipython",
    "version": 3
   },
   "file_extension": ".py",
   "mimetype": "text/x-python",
   "name": "python",
   "nbconvert_exporter": "python",
   "pygments_lexer": "ipython3",
   "version": "3.6.9"
  }
 },
 "nbformat": 4,
 "nbformat_minor": 5
}
